{
  "nbformat": 4,
  "nbformat_minor": 0,
  "metadata": {
    "colab": {
      "provenance": [],
      "authorship_tag": "ABX9TyPxxxc1W7ZnK3Pp8yTu8kI9",
      "include_colab_link": true
    },
    "kernelspec": {
      "name": "python3",
      "display_name": "Python 3"
    },
    "language_info": {
      "name": "python"
    }
  },
  "cells": [
    {
      "cell_type": "markdown",
      "metadata": {
        "id": "view-in-github",
        "colab_type": "text"
      },
      "source": [
        "<a href=\"https://colab.research.google.com/github/laxmiharikumar/deeplearning/blob/main/helper.ipynb\" target=\"_parent\"><img src=\"https://colab.research.google.com/assets/colab-badge.svg\" alt=\"Open In Colab\"/></a>"
      ]
    },
    {
      "cell_type": "code",
      "execution_count": null,
      "metadata": {
        "id": "XL5_Ztyhk4ZU"
      },
      "outputs": [],
      "source": [
        "# Function that returns evaluation metrics\n",
        "from sklearn import metrics\n",
        "\n",
        "def calculate_results(y_true, y_pred):\n",
        "  eval_metrics = {}\n",
        "  eval_metrics[\"accuracy\"] = metrics.accuracy_score(y_true, y_pred) * 100\n",
        "  eval_metrics[\"precision\"] = metrics.precision_score(y_true, y_pred) * 100\n",
        "  eval_metrics[\"recall\"] = metrics.recall_score(y_true, y_pred) * 100\n",
        "  eval_metrics[\"f1_score\"] = metrics.f1_score(y_true, y_pred) * 100\n",
        "\n",
        "  return eval_metrics"
      ]
    }
  ]
}